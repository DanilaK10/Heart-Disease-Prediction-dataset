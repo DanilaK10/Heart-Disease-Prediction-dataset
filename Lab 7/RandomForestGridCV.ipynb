{
  "nbformat": 4,
  "nbformat_minor": 0,
  "metadata": {
    "colab": {
      "provenance": [],
      "toc_visible": true,
      "authorship_tag": "ABX9TyNSshVkj5WVeKrDzgGP9Xg1",
      "include_colab_link": true
    },
    "kernelspec": {
      "name": "python3",
      "display_name": "Python 3"
    },
    "language_info": {
      "name": "python"
    }
  },
  "cells": [
    {
      "cell_type": "markdown",
      "metadata": {
        "id": "view-in-github",
        "colab_type": "text"
      },
      "source": [
        "<a href=\"https://colab.research.google.com/github/DanilaK10/Heart-Disease-Prediction-dataset/blob/main/RandomForestGridCV.ipynb\" target=\"_parent\"><img src=\"https://colab.research.google.com/assets/colab-badge.svg\" alt=\"Open In Colab\"/></a>"
      ]
    },
    {
      "cell_type": "code",
      "execution_count": 3,
      "metadata": {
        "colab": {
          "base_uri": "https://localhost:8080/",
          "height": 592
        },
        "id": "mmRY99hLnxry",
        "outputId": "1476e988-71fc-4fdd-fa9b-666f73a9a42c"
      },
      "outputs": [
        {
          "output_type": "stream",
          "name": "stdout",
          "text": [
            "RandomForestClassifier Accuracy: 0.8033\n",
            "\n",
            "              precision    recall  f1-score   support\n",
            "\n",
            "           0       0.80      0.80      0.80        30\n",
            "           1       0.81      0.81      0.81        31\n",
            "\n",
            "    accuracy                           0.80        61\n",
            "   macro avg       0.80      0.80      0.80        61\n",
            "weighted avg       0.80      0.80      0.80        61\n",
            "\n",
            "Best Parameters in RandomForestClassifier(): {'max_depth': 5, 'max_features': 'auto', 'n_estimators': 50, 'random_state': 42}\n",
            "\n",
            "Random Forest with GridSearchCV Accuracy: 0.8689\n",
            "\n",
            "              precision    recall  f1-score   support\n",
            "\n",
            "           0       0.80      0.92      0.86        26\n",
            "           1       0.94      0.83      0.88        35\n",
            "\n",
            "    accuracy                           0.87        61\n",
            "   macro avg       0.87      0.88      0.87        61\n",
            "weighted avg       0.88      0.87      0.87        61\n",
            "\n"
          ]
        },
        {
          "output_type": "error",
          "ename": "NameError",
          "evalue": "name 'grid' is not defined",
          "traceback": [
            "\u001b[0;31m---------------------------------------------------------------------------\u001b[0m",
            "\u001b[0;31mNameError\u001b[0m                                 Traceback (most recent call last)",
            "\u001b[0;32m<ipython-input-3-596f832371a7>\u001b[0m in \u001b[0;36m<cell line: 98>\u001b[0;34m()\u001b[0m\n\u001b[1;32m     96\u001b[0m \u001b[0;31m#grid = GridSearchCV(rf_model, parameter_grid, cv = 5, scoring = \"accuracy\")\u001b[0m\u001b[0;34m\u001b[0m\u001b[0;34m\u001b[0m\u001b[0m\n\u001b[1;32m     97\u001b[0m \u001b[0;31m#grid.fit(x_train, y_train)\u001b[0m\u001b[0;34m\u001b[0m\u001b[0;34m\u001b[0m\u001b[0m\n\u001b[0;32m---> 98\u001b[0;31m \u001b[0mpd\u001b[0m\u001b[0;34m.\u001b[0m\u001b[0mDataFrame\u001b[0m\u001b[0;34m(\u001b[0m\u001b[0mgrid\u001b[0m\u001b[0;34m.\u001b[0m\u001b[0mcv_results_\u001b[0m\u001b[0;34m)\u001b[0m\u001b[0;34m[\u001b[0m\u001b[0;34m[\u001b[0m\u001b[0;34m'mean_test_score'\u001b[0m\u001b[0;34m,\u001b[0m \u001b[0;34m'std_test_score'\u001b[0m\u001b[0;34m,\u001b[0m \u001b[0;34m'params'\u001b[0m\u001b[0;34m]\u001b[0m\u001b[0;34m]\u001b[0m\u001b[0;34m\u001b[0m\u001b[0;34m\u001b[0m\u001b[0m\n\u001b[0m",
            "\u001b[0;31mNameError\u001b[0m: name 'grid' is not defined"
          ]
        }
      ],
      "source": [
        "import numpy as np\n",
        "import matplotlib.pyplot as plt\n",
        "import seaborn as sns\n",
        "sns.set(style='darkgrid')\n",
        "import plotly.graph_objs as go\n",
        "import plotly.offline as py\n",
        "import pandas as pd\n",
        "df = pd.read_csv(\"https://raw.githubusercontent.com/DanilaK10/Heart-Disease-Prediction-dataset/main/Heart%20Disease%20Dataset.csv\")\n",
        "df\n",
        "\n",
        "from sklearn.model_selection import train_test_split\n",
        "from sklearn.preprocessing import MinMaxScaler\n",
        "from sklearn.ensemble import RandomForestClassifier\n",
        "from sklearn.model_selection import GridSearchCV\n",
        "from sklearn.metrics import classification_report\n",
        "from sklearn.metrics import confusion_matrix\n",
        "from sklearn.model_selection import learning_curve\n",
        "\n",
        "import warnings\n",
        "warnings.filterwarnings(\"ignore\")\n",
        "\n",
        "#renaming columns - Kaggle - 3.2\n",
        "df.columns = [\"Age\", \"Sex\", \"Chest_pain_type\", \"Resting_bp\", \"Cholesterol\", \"Fasting_bs\", \"Resting_ecg\", \"Max_heart_rate\", \"Exercise_induced_angina\", \"ST_depression\", \"ST_slope\", \"Num_major_vessels\", \"Thallium_test\", \"Condition\"]\n",
        "df\n",
        "\n",
        "y = df[\"Condition\"] # - y is the condition values from the dataset\n",
        "x = df.drop(\"Condition\", axis = 1) # - x is the dataset with condition removed\n",
        "from sklearn.model_selection import train_test_split\n",
        "x_train, x_test, y_train, y_test = train_test_split(x,y,test_size=0.2, random_state=23)\n",
        "x_test\n",
        "\n",
        "def get_model_accuracy(model, X_test, y_test):\n",
        "    #Return the mean accuracy of model on X_test and y_test\n",
        "    model_acc = model.score(X_test, y_test)\n",
        "    return model_acc\n",
        "\n",
        "\n",
        "def get_normalization(X):\n",
        "    scaler = MinMaxScaler()\n",
        "    X_normalized = scaler.fit_transform(X)\n",
        "    return X_normalized\n",
        "\n",
        "\n",
        "x_train = get_normalization(x_train);\n",
        "x_test = get_normalization(x_test);\n",
        "\n",
        "\n",
        "rf_model = RandomForestClassifier()\n",
        "rf_model = rf_model.fit(x_train, y_train)\n",
        "\n",
        "# Accuracy score for Random Forest\n",
        "rf_acc = get_model_accuracy(rf_model, x_test, y_test)\n",
        "print(f'RandomForestClassifier Accuracy: {rf_acc:.4}')\n",
        "print()\n",
        "\n",
        "# Predict class for X_test\n",
        "y_pred_rf = rf_model.predict(x_test)\n",
        "\n",
        "# Classification Report of Random Forest model\n",
        "print(classification_report(y_pred_rf, y_test))\n",
        "\n",
        "\n",
        "\n",
        "\n",
        "def get_best_parameters_GridSearchCV(model, params, X_train, y_train):\n",
        "    clf = GridSearchCV(model, params, cv=5)\n",
        "    clf.fit(X_train, y_train)\n",
        "\n",
        "    best_params = clf.best_params_\n",
        "    print(f'Best Parameters in {model}: {best_params}')\n",
        "    print()\n",
        "\n",
        "    best_estimator = clf.best_estimator_\n",
        "    return best_estimator\n",
        "\n",
        "\n",
        "params_rf = {'max_depth': [2, 3, 4, 5],\n",
        "               'max_features': ['auto', 'sqrt', 'log2'],\n",
        "               'n_estimators':[0, 10, 50],\n",
        "               'random_state': [0, 10, 42]}\n",
        "# Build and fit Random Forest model with the best hyperparameters\n",
        "rf_gscv = get_best_parameters_GridSearchCV(rf_model, params_rf, x_train, y_train)\n",
        "rf_gscv = rf_gscv.fit(x_train, y_train)\n",
        "\n",
        "# Accuracy score for rf_gscv\n",
        "rf_gscv_acc = get_model_accuracy(rf_gscv, x_test, y_test)\n",
        "print(f'Random Forest with GridSearchCV Accuracy: {rf_gscv_acc:.4}')\n",
        "print()\n",
        "\n",
        "# Make prediction on test dataset\n",
        "y_pred_rf_gscv = rf_gscv.predict(x_test)\n",
        "\n",
        "# Classification Report of grid_rf_model\n",
        "print(classification_report(y_pred_rf_gscv, y_test))\n",
        "\n",
        "#grid = GridSearchCV(rf_model, parameter_grid, cv = 5, scoring = \"accuracy\")\n",
        "#grid.fit(x_train, y_train)\n",
        "#pd.DataFrame(grid.cv_results_)[['mean_test_score', 'std_test_score', 'params']]"
      ]
    }
  ]
}
