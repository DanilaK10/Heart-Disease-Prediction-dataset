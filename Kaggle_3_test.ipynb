{
  "nbformat": 4,
  "nbformat_minor": 0,
  "metadata": {
    "colab": {
      "provenance": [],
      "authorship_tag": "ABX9TyOf3vncbWJfngRO6q0Kkp2E",
      "include_colab_link": true
    },
    "kernelspec": {
      "name": "python3",
      "display_name": "Python 3"
    },
    "language_info": {
      "name": "python"
    }
  },
  "cells": [
    {
      "cell_type": "markdown",
      "metadata": {
        "id": "view-in-github",
        "colab_type": "text"
      },
      "source": [
        "<a href=\"https://colab.research.google.com/github/DanilaK10/Heart-Disease-Prediction-Team2/blob/main/Kaggle_3_test.ipynb\" target=\"_parent\"><img src=\"https://colab.research.google.com/assets/colab-badge.svg\" alt=\"Open In Colab\"/></a>"
      ]
    },
    {
      "cell_type": "code",
      "execution_count": null,
      "metadata": {
        "id": "Wfeay5sNHGHo"
      },
      "outputs": [],
      "source": [
        "#renaming columns - Kaggle - 3.2\n",
        "df.columns = [\"Age\", \"Sex\", \"Chest_pain_type\", \"Resting_bp\", \"Cholesterol\", \"Fasting_bs\", \"Resting_ecg\", \"Max_heart_rate\", \"Exercise_indiced_angina\", \"ST_depression\", \"ST_slope\", \"Num_major_vessels\", \"Thallium_test\", \"Condition\"]\n",
        "df"
      ]
    },
    {
      "cell_type": "code",
      "source": [
        "#Check out missing values 3.3 Kaggle\n",
        "#df.describe() # - gives data about each column e.g mean, min, max values\n",
        "#df.info() # - gives number of column and it's name number of non-null values and its data type\n",
        "df.isnull().sum() # - displays each column and number of null values that column has (null - means no data in that ?????)"
      ],
      "metadata": {
        "id": "0PIhN1daHOgE"
      },
      "execution_count": null,
      "outputs": []
    }
  ]
}